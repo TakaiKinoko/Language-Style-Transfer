{
 "cells": [
  {
   "cell_type": "code",
   "execution_count": null,
   "metadata": {},
   "outputs": [],
   "source": [
    "from loadData import sentencesDataset, GenerateWordEmbeddings"
   ]
  },
  {
   "cell_type": "code",
   "execution_count": null,
   "metadata": {},
   "outputs": [],
   "source": [
    "rawSentences = sentencesDataset(\"../data/yelp/sentiment.train.0\", \"../data/yelp/\")\n",
    "print(rawSentences[0])\n",
    "\n",
    "# dimension of word embeddings set to 200 per Zhao et al.\n",
    "yelpData = sentencesDataset(\"../data/yelp/sentiment.train.0\", \"../data/yelp/\", \n",
    "                            transform=GenerateWordEmbeddings(200, \"../data/glove.6B/\"))  \n",
    "print(yelpData[0])"
   ]
  },
  {
   "cell_type": "code",
   "execution_count": null,
   "metadata": {},
   "outputs": [],
   "source": [
    "print(len(yelpData[0][0]))\n",
    "    "
   ]
  }
 ],
 "metadata": {
  "kernelspec": {
   "display_name": "Python 3",
   "language": "python",
   "name": "python3"
  },
  "language_info": {
   "codemirror_mode": {
    "name": "ipython",
    "version": 3
   },
   "file_extension": ".py",
   "mimetype": "text/x-python",
   "name": "python",
   "nbconvert_exporter": "python",
   "pygments_lexer": "ipython3",
   "version": "3.7.3"
  }
 },
 "nbformat": 4,
 "nbformat_minor": 2
}
