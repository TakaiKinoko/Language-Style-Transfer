{
 "cells": [
  {
   "cell_type": "code",
   "execution_count": 1,
   "metadata": {},
   "outputs": [],
   "source": [
    "import torch\n",
    "from torch.utils.data import Dataset, DataLoader\n",
    "from torchvision import transforms, utils\n",
    "import numpy as np"
   ]
  },
  {
   "cell_type": "code",
   "execution_count": 2,
   "metadata": {},
   "outputs": [],
   "source": [
    "class sentencesDataset(Dataset):\n",
    "    def __init__(self, text_file, root_dir, transform=None):\n",
    "        \"\"\"\n",
    "        Args:\n",
    "            text_file (string): Path to the csv file with annotations.\n",
    "            root_dir (string): Directory with all the data\n",
    "            transform (callable, optional): Optional transform to be applied\n",
    "                on a sample.   \n",
    "        \"\"\"\n",
    "        self.root_dir = root_dir\n",
    "        self.transform = transform\n",
    "        \n",
    "        with open(text_file, \"r\") as f:\n",
    "            self.sentences = f.readlines()\n",
    "        \n",
    "    def __getitem__(self, idx):\n",
    "        if torch.is_tensor(idx):\n",
    "            idx = idx.tolist()\n",
    "            \n",
    "        sample = self.sentences[idx]\n",
    "            \n",
    "        if self.transform:\n",
    "            sample = self.transform(sample)\n",
    "            \n",
    "        return sample "
   ]
  },
  {
   "cell_type": "code",
   "execution_count": 3,
   "metadata": {},
   "outputs": [],
   "source": [
    "class GenerateWordEmbeddings(object):\n",
    "    \"\"\"Transform sentence into list of word embeddings\"\"\"\n",
    "    \n",
    "    def __init__(self, dim, glove_path):\n",
    "        \"\"\"\n",
    "        args:\n",
    "            dim (int): dimension of word vectors (50, 100, 200, 300)\n",
    "        \"\"\"\n",
    "        \n",
    "        filenames = {\n",
    "            50: \"glove.6B.50d.txt\",\n",
    "            100: \"glove.6B.100d.txt\",\n",
    "            200: \"glove.6B.200d.txt\",\n",
    "            300: \"glove.6B.300d.txt\",\n",
    "        }\n",
    "            \n",
    "        self.embeddings_dict = {}\n",
    "        with open(glove_path+filenames[dim], 'r', encoding=\"utf8\") as f:\n",
    "            for line in f:\n",
    "                values = line.split()\n",
    "                word = values[0]\n",
    "                vector = np.asarray(values[1:], \"float32\")\n",
    "                self.embeddings_dict[word] = vector\n",
    "    \n",
    "    def __call__(self, sample):\n",
    "        \"\"\"\n",
    "        args:\n",
    "            sample (string): sentence to be converted into list of word embeddings\n",
    "        \"\"\"\n",
    "        token_list = self.__tokenize(sample)\n",
    "\n",
    "        sentence_embedding = []\n",
    "        for word in token_list:\n",
    "            try:\n",
    "                vector = self.embeddings_dict[word]\n",
    "                sentence_embedding.append(vector)\n",
    "            except:\n",
    "                print(\"Word \" + word + \" not in GloVe dataset\")\n",
    "                \n",
    "        return sentence_embedding\n",
    "            \n",
    "    def __tokenize(self, string):        \n",
    "        tokens = string.split(sep=\" \")\n",
    "        punctuation = [\" \", \".\", \",\", \".\\n\"]\n",
    "        \n",
    "        tokens_clean = []\n",
    "        for t in tokens:\n",
    "            if t not in punctuation:\n",
    "                tokens_clean.append(t)\n",
    "        \n",
    "        return tokens_clean"
   ]
  },
  {
   "cell_type": "code",
   "execution_count": 5,
   "metadata": {},
   "outputs": [
    {
     "name": "stdout",
     "output_type": "stream",
     "text": [
      "i was sadly mistaken .\n",
      "\n"
     ]
    },
    {
     "ename": "FileNotFoundError",
     "evalue": "[Errno 2] No such file or directory: '../data/glove.6B/glove.6B.50d.txt'",
     "output_type": "error",
     "traceback": [
      "\u001b[0;31m---------------------------------------------------------------------------\u001b[0m",
      "\u001b[0;31mFileNotFoundError\u001b[0m                         Traceback (most recent call last)",
      "\u001b[0;32m<ipython-input-5-e18ffda2b980>\u001b[0m in \u001b[0;36m<module>\u001b[0;34m\u001b[0m\n\u001b[1;32m      3\u001b[0m \u001b[0;34m\u001b[0m\u001b[0m\n\u001b[1;32m      4\u001b[0m yelpData = sentencesDataset(\"../data/yelp/sentiment.train.0\", \"../data/yelp/\", \n\u001b[0;32m----> 5\u001b[0;31m                             transform=GenerateWordEmbeddings(50, \"../data/glove.6B/\"))\n\u001b[0m\u001b[1;32m      6\u001b[0m \u001b[0mprint\u001b[0m\u001b[0;34m(\u001b[0m\u001b[0myelpData\u001b[0m\u001b[0;34m[\u001b[0m\u001b[0;36m0\u001b[0m\u001b[0;34m]\u001b[0m\u001b[0;34m)\u001b[0m\u001b[0;34m\u001b[0m\u001b[0;34m\u001b[0m\u001b[0m\n",
      "\u001b[0;32m<ipython-input-3-7a60dea6a0e5>\u001b[0m in \u001b[0;36m__init__\u001b[0;34m(self, dim, glove_path)\u001b[0m\n\u001b[1;32m     16\u001b[0m \u001b[0;34m\u001b[0m\u001b[0m\n\u001b[1;32m     17\u001b[0m         \u001b[0mself\u001b[0m\u001b[0;34m.\u001b[0m\u001b[0membeddings_dict\u001b[0m \u001b[0;34m=\u001b[0m \u001b[0;34m{\u001b[0m\u001b[0;34m}\u001b[0m\u001b[0;34m\u001b[0m\u001b[0;34m\u001b[0m\u001b[0m\n\u001b[0;32m---> 18\u001b[0;31m         \u001b[0;32mwith\u001b[0m \u001b[0mopen\u001b[0m\u001b[0;34m(\u001b[0m\u001b[0mglove_path\u001b[0m\u001b[0;34m+\u001b[0m\u001b[0mfilenames\u001b[0m\u001b[0;34m[\u001b[0m\u001b[0mdim\u001b[0m\u001b[0;34m]\u001b[0m\u001b[0;34m,\u001b[0m \u001b[0;34m'r'\u001b[0m\u001b[0;34m,\u001b[0m \u001b[0mencoding\u001b[0m\u001b[0;34m=\u001b[0m\u001b[0;34m\"utf8\"\u001b[0m\u001b[0;34m)\u001b[0m \u001b[0;32mas\u001b[0m \u001b[0mf\u001b[0m\u001b[0;34m:\u001b[0m\u001b[0;34m\u001b[0m\u001b[0;34m\u001b[0m\u001b[0m\n\u001b[0m\u001b[1;32m     19\u001b[0m             \u001b[0;32mfor\u001b[0m \u001b[0mline\u001b[0m \u001b[0;32min\u001b[0m \u001b[0mf\u001b[0m\u001b[0;34m:\u001b[0m\u001b[0;34m\u001b[0m\u001b[0;34m\u001b[0m\u001b[0m\n\u001b[1;32m     20\u001b[0m                 \u001b[0mvalues\u001b[0m \u001b[0;34m=\u001b[0m \u001b[0mline\u001b[0m\u001b[0;34m.\u001b[0m\u001b[0msplit\u001b[0m\u001b[0;34m(\u001b[0m\u001b[0;34m)\u001b[0m\u001b[0;34m\u001b[0m\u001b[0;34m\u001b[0m\u001b[0m\n",
      "\u001b[0;31mFileNotFoundError\u001b[0m: [Errno 2] No such file or directory: '../data/glove.6B/glove.6B.50d.txt'"
     ]
    }
   ],
   "source": [
    "rawSentences = sentencesDataset(\"../data/yelp/sentiment.train.0\", \"../data/yelp/\")\n",
    "print(rawSentences[0])\n",
    "\n",
    "yelpData = sentencesDataset(\"../data/yelp/sentiment.train.0\", \"../data/yelp/\", \n",
    "                            transform=GenerateWordEmbeddings(50, \"../data/glove.840B.300d.txt\"))\n",
    "print(yelpData[0])"
   ]
  },
  {
   "cell_type": "code",
   "execution_count": 60,
   "metadata": {},
   "outputs": [],
   "source": [
    "\n",
    "    "
   ]
  },
  {
   "cell_type": "code",
   "execution_count": null,
   "metadata": {},
   "outputs": [],
   "source": []
  },
  {
   "cell_type": "code",
   "execution_count": null,
   "metadata": {},
   "outputs": [],
   "source": []
  }
 ],
 "metadata": {
  "kernelspec": {
   "display_name": "Python 3",
   "language": "python",
   "name": "python3"
  },
  "language_info": {
   "codemirror_mode": {
    "name": "ipython",
    "version": 3
   },
   "file_extension": ".py",
   "mimetype": "text/x-python",
   "name": "python",
   "nbconvert_exporter": "python",
   "pygments_lexer": "ipython3",
   "version": "3.7.1"
  }
 },
 "nbformat": 4,
 "nbformat_minor": 2
}
